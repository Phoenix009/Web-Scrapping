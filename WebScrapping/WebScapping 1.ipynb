{
 "cells": [
  {
   "cell_type": "code",
   "execution_count": 2,
   "metadata": {},
   "outputs": [],
   "source": [
    "from bs4 import BeautifulSoup\n",
    "import requests"
   ]
  },
  {
   "cell_type": "code",
   "execution_count": 8,
   "metadata": {
    "collapsed": true
   },
   "outputs": [
    {
     "name": "stdout",
     "output_type": "stream",
     "text": [
      "<!DOCTYPE html>\n",
      "<html lang=\"en\">\n",
      "<head>\n",
      "<meta charset=\"utf-8\"/>\n",
      "<meta content=\"width=device-width, initial-scale=1.0\" name=\"viewport\"/>\n",
      "<meta content=\"ie=edge\" http-equiv=\"X-UA-Compatible\"/>\n",
      "<title>yo wassup</title>\n",
      "<link href=\"styles.css\" rel=\"stylesheet\"/>\n",
      "<link href=\"https://fonts.googleapis.com/css?family=Abril+Fatface|Merriweather&amp;display=swap\" rel=\"stylesheet\"/>\n",
      "</head>\n",
      "<body>\n",
      "<div class=\"topContainer\">\n",
      "<img alt=\"topCloud\" class=\"topCloud\" src=\"images/cloud.svg\"/>\n",
      "<div class=\"titleText\">\n",
      "<h1>I'm Jaideep</h1>\n",
      "<h2>Started with <span class=\"pro\">WebDev</span> finally..</h2>\n",
      "</div>\n",
      "<img alt=\"bottomCloud\" class=\"bottomCloud\" src=\"images/cloud.svg\"/>\n",
      "<img alt=\"Land\" class=\"land\" src=\"images/land.svg\"/>\n",
      "</div>\n",
      "<div class=\"middleContainer\">\n",
      "<div class=\"profile\">\n",
      "<img alt=\"Profile\" src=\"images/snapID.JPG\"/>\n",
      "<h2>Hello!</h2>\n",
      "<p class=\"intro\">\n",
      "                an Engineering Student, pursuing degree in Information\n",
      "                Technology from KJSIEIT.\n",
      "            </p>\n",
      "</div>\n",
      "<hr/>\n",
      "<div class=\"skills\">\n",
      "<h2>My Skills and Achievements</h2>\n",
      "<div class=\"skillRow\">\n",
      "<img alt=\"code-img\" class=\"code-img\" src=\"images/img5.JPG\"/>\n",
      "<h3>Malaria Detection</h3>\n",
      "<p>\n",
      "                    Successfuly trained a model to detect Malaria using images of cells and by using NN\n",
      "                </p>\n",
      "</div>\n",
      "<div class=\"skillRow\">\n",
      "<img alt=\"code-img\" class=\"cat-img\" src=\"images/img4.JPG\"/>\n",
      "<h3>Glaucoma Detection</h3>\n",
      "<p>\n",
      "                        Successfuly trained a model to detect Glaucoma using images of cells and by using NN\n",
      "                    </p>\n",
      "</div>\n",
      "</div>\n",
      "<hr/>\n",
      "<div class=\"contact-me\">\n",
      "<h2>Get-in Touch</h2>\n",
      "<h3>for any queries</h3>\n",
      "<a class=\"btn\" href=\"mailto:jaideepmore307@gmail.com\">E-mail me</a>\n",
      "</div>\n",
      "</div>\n",
      "<div class=\"bottomContainer\">\n",
      "<a class=\"footerLink\" href=\"\"><strong>LinkedIn</strong></a>\n",
      "<a class=\"footerLink\" href=\"\"><strong>Facebook</strong></a>\n",
      "<a class=\"footerLink\" href=\"\"><strong>Instagram</strong></a>\n",
      "<p class=\"copyright\"> Ⓒ 2019-2025 Jaideep More</p>\n",
      "</div>\n",
      "</body>\n",
      "</html>\n"
     ]
    }
   ],
   "source": [
    "with open(\"C:/Users/jaide/Desktop/CODING/WebDev/index.html\") as html_file:\n",
    "    soup = BeautifulSoup(html_file, \"lxml\")\n",
    "print(soup)"
   ]
  },
  {
   "cell_type": "code",
   "execution_count": 10,
   "metadata": {
    "collapsed": true
   },
   "outputs": [
    {
     "name": "stdout",
     "output_type": "stream",
     "text": [
      "<!DOCTYPE html>\n",
      "<html lang=\"en\">\n",
      " <head>\n",
      "  <meta charset=\"utf-8\"/>\n",
      "  <meta content=\"width=device-width, initial-scale=1.0\" name=\"viewport\"/>\n",
      "  <meta content=\"ie=edge\" http-equiv=\"X-UA-Compatible\"/>\n",
      "  <title>\n",
      "   yo wassup\n",
      "  </title>\n",
      "  <link href=\"styles.css\" rel=\"stylesheet\"/>\n",
      "  <link href=\"https://fonts.googleapis.com/css?family=Abril+Fatface|Merriweather&amp;display=swap\" rel=\"stylesheet\"/>\n",
      " </head>\n",
      " <body>\n",
      "  <div class=\"topContainer\">\n",
      "   <img alt=\"topCloud\" class=\"topCloud\" src=\"images/cloud.svg\"/>\n",
      "   <div class=\"titleText\">\n",
      "    <h1>\n",
      "     I'm Jaideep\n",
      "    </h1>\n",
      "    <h2>\n",
      "     Started with\n",
      "     <span class=\"pro\">\n",
      "      WebDev\n",
      "     </span>\n",
      "     finally..\n",
      "    </h2>\n",
      "   </div>\n",
      "   <img alt=\"bottomCloud\" class=\"bottomCloud\" src=\"images/cloud.svg\"/>\n",
      "   <img alt=\"Land\" class=\"land\" src=\"images/land.svg\"/>\n",
      "  </div>\n",
      "  <div class=\"middleContainer\">\n",
      "   <div class=\"profile\">\n",
      "    <img alt=\"Profile\" src=\"images/snapID.JPG\"/>\n",
      "    <h2>\n",
      "     Hello!\n",
      "    </h2>\n",
      "    <p class=\"intro\">\n",
      "     an Engineering Student, pursuing degree in Information\n",
      "                Technology from KJSIEIT.\n",
      "    </p>\n",
      "   </div>\n",
      "   <hr/>\n",
      "   <div class=\"skills\">\n",
      "    <h2>\n",
      "     My Skills and Achievements\n",
      "    </h2>\n",
      "    <div class=\"skillRow\">\n",
      "     <img alt=\"code-img\" class=\"code-img\" src=\"images/img5.JPG\"/>\n",
      "     <h3>\n",
      "      Malaria Detection\n",
      "     </h3>\n",
      "     <p>\n",
      "      Successfuly trained a model to detect Malaria using images of cells and by using NN\n",
      "     </p>\n",
      "    </div>\n",
      "    <div class=\"skillRow\">\n",
      "     <img alt=\"code-img\" class=\"cat-img\" src=\"images/img4.JPG\"/>\n",
      "     <h3>\n",
      "      Glaucoma Detection\n",
      "     </h3>\n",
      "     <p>\n",
      "      Successfuly trained a model to detect Glaucoma using images of cells and by using NN\n",
      "     </p>\n",
      "    </div>\n",
      "   </div>\n",
      "   <hr/>\n",
      "   <div class=\"contact-me\">\n",
      "    <h2>\n",
      "     Get-in Touch\n",
      "    </h2>\n",
      "    <h3>\n",
      "     for any queries\n",
      "    </h3>\n",
      "    <a class=\"btn\" href=\"mailto:jaideepmore307@gmail.com\">\n",
      "     E-mail me\n",
      "    </a>\n",
      "   </div>\n",
      "  </div>\n",
      "  <div class=\"bottomContainer\">\n",
      "   <a class=\"footerLink\" href=\"\">\n",
      "    <strong>\n",
      "     LinkedIn\n",
      "    </strong>\n",
      "   </a>\n",
      "   <a class=\"footerLink\" href=\"\">\n",
      "    <strong>\n",
      "     Facebook\n",
      "    </strong>\n",
      "   </a>\n",
      "   <a class=\"footerLink\" href=\"\">\n",
      "    <strong>\n",
      "     Instagram\n",
      "    </strong>\n",
      "   </a>\n",
      "   <p class=\"copyright\">\n",
      "    Ⓒ 2019-2025 Jaideep More\n",
      "   </p>\n",
      "  </div>\n",
      " </body>\n",
      "</html>\n"
     ]
    }
   ],
   "source": [
    "print(soup.prettify())"
   ]
  },
  {
   "cell_type": "code",
   "execution_count": 19,
   "metadata": {},
   "outputs": [
    {
     "name": "stdout",
     "output_type": "stream",
     "text": [
      "<a class=\"btn\" href=\"mailto:jaideepmore307@gmail.com\">E-mail me</a>\n"
     ]
    }
   ],
   "source": [
    "match = soup.a\n",
    "print(match)"
   ]
  },
  {
   "cell_type": "code",
   "execution_count": 20,
   "metadata": {},
   "outputs": [
    {
     "name": "stdout",
     "output_type": "stream",
     "text": [
      "E-mail me\n"
     ]
    }
   ],
   "source": [
    "match = soup.a.text\n",
    "print(match)"
   ]
  },
  {
   "cell_type": "code",
   "execution_count": 22,
   "metadata": {},
   "outputs": [
    {
     "name": "stdout",
     "output_type": "stream",
     "text": [
      "<div class=\"topContainer\">\n",
      "<img alt=\"topCloud\" class=\"topCloud\" src=\"images/cloud.svg\"/>\n",
      "<div class=\"titleText\">\n",
      "<h1>I'm Jaideep</h1>\n",
      "<h2>Started with <span class=\"pro\">WebDev</span> finally..</h2>\n",
      "</div>\n",
      "<img alt=\"bottomCloud\" class=\"bottomCloud\" src=\"images/cloud.svg\"/>\n",
      "<img alt=\"Land\" class=\"land\" src=\"images/land.svg\"/>\n",
      "</div>\n"
     ]
    }
   ],
   "source": [
    "match = soup.div\n",
    "print(match)"
   ]
  },
  {
   "cell_type": "code",
   "execution_count": 25,
   "metadata": {},
   "outputs": [
    {
     "name": "stdout",
     "output_type": "stream",
     "text": [
      "\n",
      "\n",
      "\n",
      "I'm Jaideep\n",
      "Started with WebDev finally..\n",
      "\n",
      "\n",
      "\n",
      "\n"
     ]
    }
   ],
   "source": [
    "match = soup.find(\"div\", class_ = \"topContainer\").text\n",
    "print(match)"
   ]
  },
  {
   "cell_type": "code",
   "execution_count": 28,
   "metadata": {},
   "outputs": [
    {
     "name": "stdout",
     "output_type": "stream",
     "text": [
      "Started with WebDev finally..\n",
      "Hello!\n",
      "My Skills and Achievements\n",
      "Get-in Touch\n"
     ]
    }
   ],
   "source": [
    "match = soup.find_all(\"h2\")\n",
    "for i in match:\n",
    "    print(i.text)"
   ]
  }
 ],
 "metadata": {
  "kernelspec": {
   "display_name": "Python 3",
   "language": "python",
   "name": "python3"
  },
  "language_info": {
   "codemirror_mode": {
    "name": "ipython",
    "version": 3
   },
   "file_extension": ".py",
   "mimetype": "text/x-python",
   "name": "python",
   "nbconvert_exporter": "python",
   "pygments_lexer": "ipython3",
   "version": "3.5.6"
  }
 },
 "nbformat": 4,
 "nbformat_minor": 2
}
